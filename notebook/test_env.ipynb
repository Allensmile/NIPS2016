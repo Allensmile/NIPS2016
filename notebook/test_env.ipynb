{
 "cells": [
  {
   "cell_type": "code",
   "execution_count": 3,
   "metadata": {
    "collapsed": false
   },
   "outputs": [
    {
     "name": "stdout",
     "output_type": "stream",
     "text": [
      "The autoreload extension is already loaded. To reload it, use:\n",
      "  %reload_ext autoreload\n"
     ]
    }
   ],
   "source": [
    "%load_ext autoreload\n",
    "%autoreload 2"
   ]
  },
  {
   "cell_type": "code",
   "execution_count": 4,
   "metadata": {
    "collapsed": true
   },
   "outputs": [],
   "source": [
    "import sys\n",
    "sys.path.append('../')\n",
    "import numpy as np\n",
    "from nips.environment.environment import TestEnvironment\n",
    "\n",
    "environment = TestEnvironment()"
   ]
  },
  {
   "cell_type": "code",
   "execution_count": 6,
   "metadata": {
    "collapsed": false
   },
   "outputs": [
    {
     "name": "stdout",
     "output_type": "stream",
     "text": [
      "current_context [ 0.  0.]\n",
      "s_hand [  3.12555863e-02   4.49647423e-02   5.34968180e-04  -4.85826813e-02\n",
      "  -9.10963923e-02  -1.87215575e-01  -3.03686802e-01  -3.92500245e-01\n",
      "  -5.00943989e-01  -6.58555171e-01  -7.75071996e-01  -7.93949601e-01\n",
      "  -5.55961925e-01  -3.36427463e-01  -1.83531671e-01  -1.22351166e-01\n",
      "  -1.01619632e-01  -9.38994206e-02  -1.14791855e-01  -1.53922660e-01\n",
      "  -1.87485026e-01  -2.14584804e-01  -2.36596734e-01  -2.54710021e-01\n",
      "  -2.69833385e-01  -3.20579156e-01  -5.10990567e-01  -2.17531192e-01\n",
      "   1.06764401e-01   3.43712795e-01]\n",
      "s_joystick [ 0.80632758  0.83891434  0.55649689  0.28784478  0.09243528 -0.06486441\n",
      " -0.20206717 -0.29860082 -0.38615213 -0.50463251 -0.58758697 -0.5793648\n",
      " -0.31936519 -0.08171744  0.08630171  0.19822799  0.40937094  0.12363177\n",
      " -0.22155626 -0.49763545]\n",
      "s_ergo [-0.80632758 -0.83891434 -0.55649689 -0.28784478 -0.09243528  0.06486441\n",
      "  0.20206717  0.29860082  0.38615213  0.50463251  0.58758697  0.5793648\n",
      "  0.31936519  0.08171744 -0.08630171 -0.19822799 -0.40937094 -0.12363177\n",
      "  0.22155626  0.49763545]\n",
      "s_ball [ 0.80632758  0.83891434  0.55649689  0.28784478  0.09243528 -0.06486441\n",
      " -0.20206717 -0.29860082 -0.38615213 -0.50463251 -0.58758697 -0.5793648\n",
      " -0.31936519 -0.08171744  0.08630171  0.19822799  0.40937094  0.12363177\n",
      " -0.22155626 -0.49763545]\n",
      "s_light [ 1.39391455  1.41827914  0.87586208  0.36956222  0.00613356 -0.2630924\n",
      " -0.61143811 -0.4222326  -0.16459588 -0.00699706]\n",
      "s_sound [ 1.14408386  0.86720958  0.41180047  0.01685303 -0.28836888 -0.49682882\n",
      " -0.79552307 -0.62826428 -0.36603071 -0.08172934]\n"
     ]
    }
   ],
   "source": [
    "m = 2. * np.random.random(32) - 1.\n",
    "\n",
    "cs = environment.update(m) \n",
    "\n",
    "current_context = cs[:2]\n",
    "s_hand = cs[2:32]\n",
    "s_joystick = cs[32:52]\n",
    "s_ergo = cs[52:72]\n",
    "s_ball = cs[72:92]\n",
    "s_light = cs[92:102]\n",
    "s_sound = cs[102:112]\n",
    "\n",
    "print \"current_context\", current_context\n",
    "print \"s_hand\", s_hand\n",
    "print \"s_joystick\", s_joystick\n",
    "print \"s_ergo\", s_ergo\n",
    "print \"s_ball\", s_ball\n",
    "print \"s_light\", s_light\n",
    "print \"s_sound\", s_sound"
   ]
  },
  {
   "cell_type": "code",
   "execution_count": 7,
   "metadata": {
    "collapsed": false
   },
   "outputs": [
    {
     "data": {
      "text/plain": [
       "[0.49763545445173341, -0.49763545445173341]"
      ]
     },
     "execution_count": 7,
     "metadata": {},
     "output_type": "execute_result"
    }
   ],
   "source": [
    "environment.get_current_context()"
   ]
  },
  {
   "cell_type": "code",
   "execution_count": null,
   "metadata": {
    "collapsed": true
   },
   "outputs": [],
   "source": []
  }
 ],
 "metadata": {
  "kernelspec": {
   "display_name": "Python 2",
   "language": "python",
   "name": "python2"
  },
  "language_info": {
   "codemirror_mode": {
    "name": "ipython",
    "version": 2
   },
   "file_extension": ".py",
   "mimetype": "text/x-python",
   "name": "python",
   "nbconvert_exporter": "python",
   "pygments_lexer": "ipython2",
   "version": "2.7.11+"
  },
  "widgets": {
   "state": {},
   "version": "1.1.2"
  }
 },
 "nbformat": 4,
 "nbformat_minor": 0
}
