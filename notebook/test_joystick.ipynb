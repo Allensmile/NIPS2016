{
 "cells": [
  {
   "cell_type": "code",
   "execution_count": 1,
   "metadata": {
    "collapsed": false
   },
   "outputs": [],
   "source": [
    "%load_ext autoreload\n",
    "%autoreload 2"
   ]
  },
  {
   "cell_type": "code",
   "execution_count": null,
   "metadata": {
    "collapsed": false
   },
   "outputs": [
    {
     "name": "stdout",
     "output_type": "stream",
     "text": [
      "Initialized Joystick : Ultimarc UltraStik Ultimarc Ultra-Stik Player 1\n"
     ]
    }
   ],
   "source": [
    "import pygame\n",
    "import time\n",
    "import matplotlib.pyplot as plt\n",
    "\n",
    "pygame.init()\n",
    "\n",
    "j = pygame.joystick.Joystick(0)\n",
    "j.init()\n",
    "print 'Initialized Joystick : %s' % j.get_name()"
   ]
  },
  {
   "cell_type": "code",
   "execution_count": null,
   "metadata": {
    "collapsed": false
   },
   "outputs": [],
   "source": [
    "\n",
    "fig,ax = plt.subplots()\n",
    "plt.xlim([-1., 1.])\n",
    "plt.ylim([-1., 1.])\n",
    "fig.canvas.draw()\n",
    "plt.show(block=False)\n",
    "while True:\n",
    "    time.sleep(0.1)\n",
    "    pygame.event.get()\n",
    "    y = j.get_axis(0)\n",
    "    x = j.get_axis(1)\n",
    "    ax.plot(x, y, \"or\", alpha=0.5)\n",
    "    fig.canvas.draw()"
   ]
  },
  {
   "cell_type": "code",
   "execution_count": null,
   "metadata": {
    "collapsed": true
   },
   "outputs": [],
   "source": []
  }
 ],
 "metadata": {
  "kernelspec": {
   "display_name": "Python 2",
   "language": "python",
   "name": "python2"
  },
  "language_info": {
   "codemirror_mode": {
    "name": "ipython",
    "version": 2
   },
   "file_extension": ".py",
   "mimetype": "text/x-python",
   "name": "python",
   "nbconvert_exporter": "python",
   "pygments_lexer": "ipython2",
   "version": "2.7.11+"
  },
  "widgets": {
   "state": {},
   "version": "1.1.2"
  }
 },
 "nbformat": 4,
 "nbformat_minor": 0
}
